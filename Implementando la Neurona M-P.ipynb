{
 "cells": [
  {
   "cell_type": "markdown",
   "metadata": {},
   "source": [
    "# Caso Práctico: Neurona de McCulloch y Pitts\n",
    "\n",
    "El primer modelo computacional de una neurona fue propuesto por Warren MuCulloch (neurocientífico) y Walter Pitts (lógico) en 1943. Se puede dividir en 2 partes. La primera parte, g toma una entrada xi (booleana), realiza una sumatoria de xi y en base al valor resultante, una función f toma una decisión (boolena).\n",
    "\n",
    "**Fuente:** https://github.com/SatviKaul/MPNeuron/blob/master/MPNeuronClass.py"
   ]
  },
  {
   "cell_type": "markdown",
   "metadata": {},
   "source": [
    "## 1. Implementación de la MPNeuron"
   ]
  },
  {
   "cell_type": "code",
   "execution_count": 106,
   "metadata": {},
   "outputs": [],
   "source": [
    "import numpy as np\n",
    "\n",
    "class MPNeuron:\n",
    "    \n",
    "    def __init__(self):\n",
    "        self.threshold = None\n",
    "        \n",
    "    def model(self, x):\n",
    "        # input: [0, 0, 1, 1] [x1, x2, .., xn]\n",
    "        z = sum(x)\n",
    "        return (z >= self.threshold)\n",
    "    \n",
    "    def predict(self, X):\n",
    "        # input: [[1, 0, 1, 0], [1, 0, 1, 1]]\n",
    "        Y = []\n",
    "        for x in X:\n",
    "            result = self.model(x)\n",
    "            Y.append(result)\n",
    "        return np.array(Y)\n",
    "            \n",
    "    def fit(self, X, Y):\n",
    "        accuracy = {}\n",
    "        # Seleccionamos un threshold entre el # de características de entrada\n",
    "        for th in range(X.shape[1] + 1):\n",
    "            self.threshold = th\n",
    "            Y_pred = self.predict(X)\n",
    "            accuracy[th] = accuracy_score(Y_pred, Y)\n",
    "        # Seleccionamos el threshold que mejores resultados proporciona\n",
    "        self.threshold = max(accuracy, key=accuracy.get)"
   ]
  },
  {
   "cell_type": "code",
   "execution_count": 107,
   "metadata": {},
   "outputs": [],
   "source": [
    "# Instanciamos la neurona\n",
    "mp_neuron = MPNeuron()"
   ]
  },
  {
   "cell_type": "code",
   "execution_count": 108,
   "metadata": {},
   "outputs": [],
   "source": [
    "# Establecemos un threshold\n",
    "mp_neuron.threshold = 4"
   ]
  },
  {
   "cell_type": "code",
   "execution_count": 109,
   "metadata": {},
   "outputs": [
    {
     "data": {
      "text/plain": [
       "array([False, False])"
      ]
     },
     "execution_count": 109,
     "metadata": {},
     "output_type": "execute_result"
    }
   ],
   "source": [
    "# Evaluamos diferentes casos de uso\n",
    "mp_neuron.predict([[0, 0, 1, 1], [0, 1, 0, 1]])"
   ]
  },
  {
   "cell_type": "code",
   "execution_count": 110,
   "metadata": {},
   "outputs": [
    {
     "data": {
      "text/plain": [
       "2"
      ]
     },
     "execution_count": 110,
     "metadata": {},
     "output_type": "execute_result"
    }
   ],
   "source": [
    "#threshold óptimo para un ejemplo de función booleana del tipo \"AND\"\n",
    "\n",
    "import pandas as pd\n",
    "from sklearn.metrics import accuracy_score #puntuación de precisión\n",
    "\n",
    "df_int = pd.DataFrame({\"x1\": [0, 0, 1, 1], \"x2\": [0, 1, 0, 1]})\n",
    "df_out = pd.DataFrame({\"salida\": [0,0,0,1]})\n",
    "\n",
    "df1 = df_int.to_numpy()\n",
    "df2 = df_out.to_numpy()\n",
    "\n",
    "mp_neuron.fit(df1,df2)\n",
    "mp_neuron.threshold"
   ]
  }
 ],
 "metadata": {
  "kernelspec": {
   "display_name": "Python 3",
   "language": "python",
   "name": "python3"
  },
  "language_info": {
   "codemirror_mode": {
    "name": "ipython",
    "version": 3
   },
   "file_extension": ".py",
   "mimetype": "text/x-python",
   "name": "python",
   "nbconvert_exporter": "python",
   "pygments_lexer": "ipython3",
   "version": "3.8.3"
  }
 },
 "nbformat": 4,
 "nbformat_minor": 4
}
